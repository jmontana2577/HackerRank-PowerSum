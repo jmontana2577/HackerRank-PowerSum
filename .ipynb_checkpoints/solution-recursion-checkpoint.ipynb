{
 "cells": [
  {
   "cell_type": "markdown",
   "metadata": {},
   "source": [
    "## This notebook is a recursive solution to the HackerRank problem called <a href=\"https://www.hackerrank.com/challenges/the-power-sum\">Power Sum</a>."
   ]
  },
  {
   "cell_type": "markdown",
   "metadata": {},
   "source": [
    "### Here's a summary of my approach:  \n",
    "  - Define a function that will loop through the possible natural numbers (bases) for the given number and power (i.e. if 50 is the number and 2 is the power, loop through 1-7 because 7 is the largest natural number that when raised to the power of 2 is less than or equal to 50).\n",
    "  - Raise the base to the specified power, and subtract that from the given number. \n",
    "  - Call the function again for the result of the subtraction, but increment the base by 1 to see how many ways that can happen.\n",
    "  - The recursion stops in two instances:\n",
    "    - The result of the subtraction equals 0, which means that a possible combination has been identified and the count gets incremented by 1.\n",
    "    - The result of the base raised to the power is greater than the current number being passed to the function, so there's no need to look for combinations starting with that base.\n"
   ]
  },
  {
   "cell_type": "code",
   "execution_count": 1,
   "metadata": {},
   "outputs": [],
   "source": [
    "def get_counts(desired_sum, exponent, base=1):\n",
    "    '''\n",
    "    This function counts the number of sums of powers for a specified sum and power.\n",
    "    Example: For sum = 10 and power = 2, there is 1 possible sum, namely 1^2 + 3^2.\n",
    "    \n",
    "    Parameters:\n",
    "        desired-sum: the desired sum of the powers\n",
    "        exponent: the specified power\n",
    "        base: the starting base (default = 1)\n",
    "        \n",
    "    \n",
    "    Result:\n",
    "        An integer representing how many possible sums of powers.\n",
    "    '''\n",
    "    \n",
    "    # calling the function with a desired sum of 0 means a sum was found\n",
    "    if desired_sum == 0:\n",
    "        return 1\n",
    "    \n",
    "    # desired sum has been exceeded - no need to continue\n",
    "    elif desired_sum < base ** exponent:\n",
    "        return 0\n",
    "    \n",
    "    # this will track the number of possible sum combinations\n",
    "    count = 0\n",
    "    \n",
    "    # loop through each possible base\n",
    "    for i in range(base, int(desired_sum ** 1/exponent)+1):\n",
    "        \n",
    "        # after subtracting current base to the power from the desired sum,\n",
    "        # call the function again to find combinations for the difference\n",
    "        new_sum = desired_sum - i ** exponent\n",
    "        count += get_counts(new_sum, exponent, i+1)\n",
    "        \n",
    "    return count"
   ]
  },
  {
   "cell_type": "markdown",
   "metadata": {},
   "source": [
    "#### Find the number of ways that 10 can be expressed as the sum of unique squares."
   ]
  },
  {
   "cell_type": "code",
   "execution_count": 2,
   "metadata": {},
   "outputs": [
    {
     "name": "stdout",
     "output_type": "stream",
     "text": [
      "1\n"
     ]
    }
   ],
   "source": [
    "print(get_counts(10,2))"
   ]
  },
  {
   "cell_type": "markdown",
   "metadata": {},
   "source": [
    "**Explanation:** The only possibility is 1<sup>2</sup> + 3<sup>2</sup>."
   ]
  },
  {
   "cell_type": "markdown",
   "metadata": {},
   "source": [
    "#### Find the number of ways that 100 can be expressed as the sum of unique squares."
   ]
  },
  {
   "cell_type": "code",
   "execution_count": 3,
   "metadata": {},
   "outputs": [
    {
     "name": "stdout",
     "output_type": "stream",
     "text": [
      "3\n"
     ]
    }
   ],
   "source": [
    "print(get_counts(100,2))"
   ]
  },
  {
   "cell_type": "markdown",
   "metadata": {},
   "source": [
    "**Explanation:** The three possibilities are as follows:  \n",
    "- 1<sup>2</sup> + 3<sup>2</sup> + 4<sup>2</sup> + 5<sup>2</sup> + 7<sup>2</sup> \n",
    "- 6<sup>2</sup> + 8<sup>2</sup>\n",
    "- 10<sup>2</sup>"
   ]
  },
  {
   "cell_type": "markdown",
   "metadata": {},
   "source": [
    "#### Find the number of ways that 100 can be expressed as the sum of unique cubes."
   ]
  },
  {
   "cell_type": "code",
   "execution_count": 4,
   "metadata": {},
   "outputs": [
    {
     "name": "stdout",
     "output_type": "stream",
     "text": [
      "1\n"
     ]
    }
   ],
   "source": [
    "print(get_counts(100,3))"
   ]
  },
  {
   "cell_type": "markdown",
   "metadata": {},
   "source": [
    "**Explanation:** The only possibility is 1<sup>3</sup> + 2<sup>3</sup> + 3<sup>3</sup> + 4<sup>3</sup>."
   ]
  }
 ],
 "metadata": {
  "kernelspec": {
   "display_name": "Python 3",
   "language": "python",
   "name": "python3"
  },
  "language_info": {
   "codemirror_mode": {
    "name": "ipython",
    "version": 3
   },
   "file_extension": ".py",
   "mimetype": "text/x-python",
   "name": "python",
   "nbconvert_exporter": "python",
   "pygments_lexer": "ipython3",
   "version": "3.6.2"
  }
 },
 "nbformat": 4,
 "nbformat_minor": 2
}
